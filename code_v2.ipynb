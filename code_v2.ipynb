{
 "cells": [
  {
   "cell_type": "code",
   "execution_count": null,
   "metadata": {},
   "outputs": [],
   "source": []
  },
  {
   "cell_type": "code",
   "execution_count": 1,
   "metadata": {
    "scrolled": true
   },
   "outputs": [
    {
     "name": "stdout",
     "output_type": "stream",
     "text": [
      "Enter Original Transcripts directoryC:\\Users\\adria\\Desktop\\Other\\Output\n",
      "Enter the Number of Transcripts to be analyzed16\n",
      "Enter A for CEO or B for CFOB\n",
      "Enter A to search in Management Discussion, B for Q&A and C for both Q&A and MDA\n",
      "Alcoa Corporation - EVP and CFO\n",
      "1197\n",
      "28983\n",
      "17\n"
     ]
    },
    {
     "ename": "NameError",
     "evalue": "name 'newlines' is not defined",
     "output_type": "error",
     "traceback": [
      "\u001b[1;31m---------------------------------------------------------------------------\u001b[0m",
      "\u001b[1;31mNameError\u001b[0m                                 Traceback (most recent call last)",
      "\u001b[1;32m<ipython-input-1-653202c0e580>\u001b[0m in \u001b[0;36m<module>\u001b[1;34m\u001b[0m\n\u001b[0;32m     76\u001b[0m         \u001b[1;31m#newlines = lines[posele:-1]\u001b[0m\u001b[1;33m\u001b[0m\u001b[1;33m\u001b[0m\u001b[1;33m\u001b[0m\u001b[0m\n\u001b[0;32m     77\u001b[0m         \u001b[0mposele\u001b[0m \u001b[1;33m=\u001b[0m \u001b[0mlines\u001b[0m\u001b[1;33m.\u001b[0m\u001b[0mindex\u001b[0m\u001b[1;33m(\u001b[0m\u001b[0mele\u001b[0m\u001b[1;33m)\u001b[0m \u001b[1;33m+\u001b[0m \u001b[1;36m2\u001b[0m\u001b[1;33m\u001b[0m\u001b[1;33m\u001b[0m\u001b[0m\n\u001b[1;32m---> 78\u001b[1;33m         \u001b[1;32mfor\u001b[0m \u001b[0mm\u001b[0m \u001b[1;32min\u001b[0m \u001b[0mnewlines\u001b[0m\u001b[1;33m:\u001b[0m\u001b[1;33m\u001b[0m\u001b[1;33m\u001b[0m\u001b[0m\n\u001b[0m\u001b[0;32m     79\u001b[0m             \u001b[1;32mif\u001b[0m \u001b[0mnome\u001b[0m \u001b[1;32min\u001b[0m \u001b[0mm\u001b[0m\u001b[1;33m:\u001b[0m\u001b[1;33m\u001b[0m\u001b[1;33m\u001b[0m\u001b[0m\n\u001b[0;32m     80\u001b[0m                 \u001b[0mprint\u001b[0m\u001b[1;33m(\u001b[0m\u001b[0mm\u001b[0m\u001b[1;33m)\u001b[0m\u001b[1;33m\u001b[0m\u001b[1;33m\u001b[0m\u001b[0m\n",
      "\u001b[1;31mNameError\u001b[0m: name 'newlines' is not defined"
     ]
    }
   ],
   "source": [
    "import os\n",
    "import sys\n",
    "import io\n",
    "\n",
    "ellista = 0\n",
    "sourceloc = input(\"Enter Original Transcripts directory\")\n",
    "sourceloc = str(sourceloc)\n",
    "nrtranscripts = input(\"Enter the Number of Transcripts to be analyzed\")\n",
    "nrtranscripts = int(nrtranscripts)\n",
    "personinput = input(\"Enter A for CEO or B for CFO\")\n",
    "personinput = (str(personinput)).upper()\n",
    "questionandanswers = input(\"Enter A to search in Management Discussion, B for Q&A and C for both Q&A and MD\")\n",
    "questionandanswers = (str(questionandanswers)).upper()\n",
    "l = os.listdir(sourceloc)\n",
    "\n",
    "if  personinput == \"A\":\n",
    "    person1 = \"CEO\"\n",
    "    person2 = \"Chief Executive Officer\"\n",
    "else:\n",
    "    if personinput == \"B\":\n",
    "        person1 = \"CFO\"\n",
    "        person2 = \"Chief Executive Officer\"\n",
    "    else: \n",
    "        print(\"error\")\n",
    "        \n",
    "barra = \"/\"\n",
    "while ellista < nrtranscripts:\n",
    "    listanova = []\n",
    "    nrceotalk = 0\n",
    "    firm = l[ellista]\n",
    "    ellista += 1\n",
    "    total = sourceloc + barra + firm\n",
    "    with open(total, encoding=\"utf8\") as file:\n",
    "        lines = file.readlines()\n",
    "        lista = \"\"\n",
    "        for why in lines:\n",
    "            lista += why\n",
    "        for i, ele in enumerate(lines):\n",
    "            if person1 in ele or person2 in ele:\n",
    "                break\n",
    "        nome = ele\n",
    "        if person1 in ele or person2 in ele:\n",
    "            nome = ele[3:-1]\n",
    "            posele = lines.index(ele) + 2\n",
    "        else:\n",
    "            nome = \"XXXXXXXXXXXXXXX \" + firm\n",
    "        w = open(\"errors.txt\",\"a+\")\n",
    "        w.write(nome + \"\\n\")\n",
    "        w.close()\n",
    "        print(nome)\n",
    "        \n",
    "        if questionandanswers == \"B\":\n",
    "            inlista = lista.find(\"Questions and Answers\\n--------------------------------------------------------------------------------\")\n",
    "            indices = []\n",
    "            for i, elem in enumerate(lines):\n",
    "                if 'Questions and Answers\\n' in elem:\n",
    "                    inposition = i\n",
    "                    break\n",
    "            #posele = lines.index(\"Questions and Answers\") + 2\n",
    "        else: \n",
    "            inlista = lista.find(\"Presentation\\n--------------------------------------------------------------------------------\")\n",
    "            #posele = lines.index(\"Presentation\") + 2\n",
    "\n",
    "        print(inlista)\n",
    "        \n",
    "        if questionandanswers == \"A\":\n",
    "            fimlista = lista.find(\"Questions and Answers\\n--------------------------------------------------------------------------------\")\n",
    "        if questionandanswers == \"B\":\n",
    "            fimlista = lista.find(\"Definitions\\n--------------------------------------------------------------------------------\")\n",
    "        if questionandanswers == \"C\":\n",
    "            fimlista = lista.find(\"Definitions\\n--------------------------------------------------------------------------------\")\n",
    "        \n",
    "        print(fimlista)\n",
    "        novalista = lista[inlista:fimlista]\n",
    "        print(posele)\n",
    "        #newlines = lines[posele:-1]\n",
    "        posele = lines.index(ele) + 2\n",
    "        for m in newlines:\n",
    "            if nome in m:\n",
    "                print(m)\n",
    "                nrceotalk += 1\n",
    "                \n",
    "                \n",
    "                lenstr = len(m)\n",
    "                posin = novalista.find(m)+ lenstr + 83\n",
    "                \n",
    "                posfin = novalista.find(\"\\n\\n\",posin)\n",
    "                \n",
    "                \n",
    "                finstr1 = novalista[posin:posfin]\n",
    "                finstr = finstr1.replace(\"\\n\",\" \")\n",
    "                #if \"====\" in finstr:\n",
    "                   # finstr = finstr[0:-81]\n",
    "                    \n",
    "                    \n",
    "                    \n",
    "                    \n",
    "                newfirm2 = person1+ \"_\" + firm\n",
    "                newfirm = newfirm2.replace(\"_Q4_\",\"_q4_\")\n",
    "                if nrceotalk >1:\n",
    "                    f = open(newfirm,\"a+\", encoding='utf-8')\n",
    "                    f.write(finstr)\n",
    "                    f.close()\n",
    "                else:\n",
    "                    f = open(newfirm,\"w+\", encoding='utf-8')\n",
    "                    f.write(finstr)\n",
    "                    f.close()\n",
    "                result = newfirm + \" complete\"\n",
    "                print(result)\n",
    "            if questionandanswers == \"A\":\n",
    "                if \"Questions and Answers\" in m:\n",
    "                    break\n",
    "                if \"Definitions\" in m:\n",
    "                    break"
   ]
  },
  {
   "cell_type": "code",
   "execution_count": 4,
   "metadata": {},
   "outputs": [
    {
     "ename": "SyntaxError",
     "evalue": "invalid syntax (<ipython-input-4-fd6f2366ecde>, line 1)",
     "output_type": "error",
     "traceback": [
      "\u001b[1;36m  File \u001b[1;32m\"<ipython-input-4-fd6f2366ecde>\"\u001b[1;36m, line \u001b[1;32m1\u001b[0m\n\u001b[1;33m    cd C:\\Users\\adria\\Desktop\\Anaconda\u001b[0m\n\u001b[1;37m       ^\u001b[0m\n\u001b[1;31mSyntaxError\u001b[0m\u001b[1;31m:\u001b[0m invalid syntax\n"
     ]
    }
   ],
   "source": [
    "cd C:\\Users\\adria\\Desktop\\Anaconda\n",
    "pyinstaller --onefile program.py"
   ]
  },
  {
   "cell_type": "code",
   "execution_count": 2,
   "metadata": {},
   "outputs": [
    {
     "name": "stdout",
     "output_type": "stream",
     "text": [
      "Requirement already satisfied: pyinstaller in c:\\users\\adria\\anaconda3\\lib\\site-packages (3.6)\n",
      "Requirement already satisfied: pywin32-ctypes>=0.2.0 in c:\\users\\adria\\anaconda3\\lib\\site-packages (from pyinstaller) (0.2.0)\n",
      "Requirement already satisfied: altgraph in c:\\users\\adria\\anaconda3\\lib\\site-packages (from pyinstaller) (0.17)\n",
      "Requirement already satisfied: pefile>=2017.8.1 in c:\\users\\adria\\anaconda3\\lib\\site-packages (from pyinstaller) (2019.4.18)\n",
      "Requirement already satisfied: setuptools in c:\\users\\adria\\anaconda3\\lib\\site-packages (from pyinstaller) (41.4.0)\n",
      "Requirement already satisfied: future in c:\\users\\adria\\anaconda3\\lib\\site-packages (from pefile>=2017.8.1->pyinstaller) (0.17.1)\n",
      "Note: you may need to restart the kernel to use updated packages.\n"
     ]
    }
   ],
   "source": []
  },
  {
   "cell_type": "code",
   "execution_count": 1,
   "metadata": {},
   "outputs": [
    {
     "name": "stdout",
     "output_type": "stream",
     "text": [
      "\n",
      "Note: you may need to restart the kernel to use updated packages.\n"
     ]
    },
    {
     "name": "stderr",
     "output_type": "stream",
     "text": [
      "usage: conda-script.py [-h] [-V] command ...\n",
      "conda-script.py: error: unrecognized arguments: pywin32\n"
     ]
    }
   ],
   "source": []
  },
  {
   "cell_type": "code",
   "execution_count": null,
   "metadata": {},
   "outputs": [],
   "source": []
  }
 ],
 "metadata": {
  "kernelspec": {
   "display_name": "Python 3",
   "language": "python",
   "name": "python3"
  },
  "language_info": {
   "codemirror_mode": {
    "name": "ipython",
    "version": 3
   },
   "file_extension": ".py",
   "mimetype": "text/x-python",
   "name": "python",
   "nbconvert_exporter": "python",
   "pygments_lexer": "ipython3",
   "version": "3.7.4"
  }
 },
 "nbformat": 4,
 "nbformat_minor": 2
}
